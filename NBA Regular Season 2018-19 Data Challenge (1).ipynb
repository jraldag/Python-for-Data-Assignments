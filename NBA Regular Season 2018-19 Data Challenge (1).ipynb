{
 "cells": [
  {
   "cell_type": "markdown",
   "metadata": {},
   "source": [
    "# Nba Regular Season 2018-19 Data Challenge\n",
    "\n",
    "Your task will be to take the dataset given, and create an analysis answering the following 10 questions. This project will again test your knowledge of pandas in order to find the answers needed given the data you are presented with."
   ]
  },
  {
   "cell_type": "markdown",
   "metadata": {},
   "source": [
    "# What was the average age of player in the league?"
   ]
  },
  {
   "cell_type": "code",
   "execution_count": 1,
   "metadata": {},
   "outputs": [
    {
     "data": {
      "text/html": [
       "<div>\n",
       "<style scoped>\n",
       "    .dataframe tbody tr th:only-of-type {\n",
       "        vertical-align: middle;\n",
       "    }\n",
       "\n",
       "    .dataframe tbody tr th {\n",
       "        vertical-align: top;\n",
       "    }\n",
       "\n",
       "    .dataframe thead th {\n",
       "        text-align: right;\n",
       "    }\n",
       "</style>\n",
       "<table border=\"1\" class=\"dataframe\">\n",
       "  <thead>\n",
       "    <tr style=\"text-align: right;\">\n",
       "      <th></th>\n",
       "      <th>Age</th>\n",
       "    </tr>\n",
       "    <tr>\n",
       "      <th>NBA Regular Season 2018-19</th>\n",
       "      <th></th>\n",
       "    </tr>\n",
       "  </thead>\n",
       "  <tbody>\n",
       "    <tr>\n",
       "      <th>Average Age</th>\n",
       "      <td>25.900192</td>\n",
       "    </tr>\n",
       "  </tbody>\n",
       "</table>\n",
       "</div>"
      ],
      "text/plain": [
       "                                  Age\n",
       "NBA Regular Season 2018-19           \n",
       "Average Age                 25.900192"
      ]
     },
     "execution_count": 1,
     "metadata": {},
     "output_type": "execute_result"
    }
   ],
   "source": [
    "# Import Pandas\n",
    "import pandas as pd\n",
    "\n",
    "# Load NBA Data from CSV File\n",
    "nba_data = pd.read_csv('nbastats2018-2019 - nbastats2018-2019.csv', sep = ',')\n",
    "nba_data\n",
    "\n",
    "# Use .describe() to find the Age Mean (average).\n",
    "nba_data.describe()\n",
    "\n",
    "# Use .groupby() and .mean() to find the Age mean (average).\n",
    "nba_data['NBA Regular Season 2018-19'] = 'Average Age'\n",
    "nba_data.groupby('NBA Regular Season 2018-19').mean('Age')[['Age']]\n",
    "\n",
    "\n",
    "## Answer: The average age is 25.90 years old."
   ]
  },
  {
   "cell_type": "markdown",
   "metadata": {},
   "source": [
    "# What player scored the most points?"
   ]
  },
  {
   "cell_type": "code",
   "execution_count": 36,
   "metadata": {},
   "outputs": [
    {
     "name": "stdout",
     "output_type": "stream",
     "text": [
      "               Name  Total Points\n",
      "202    James Harden          2816\n",
      "179     Paul George          2156\n",
      "37     Bradley Beal          2099\n",
      "486    Kemba Walker          2099\n",
      "299  Damian Lillard          2064\n"
     ]
    }
   ],
   "source": [
    "# Import Numpy\n",
    "import numpy as np\n",
    "\n",
    "# Create a variable calculating each players total points, multiplying their points per game with the number of games played.\n",
    "total_points = nba_data.Points * nba_data.G\n",
    "\n",
    "# Add the Total Points variable as a column.\n",
    "nba_data['Total Points'] = total_points\n",
    "\n",
    "# Round the Total Points result to remove decimals as a player can't score a partial point.\n",
    "nba_data['Total Points'] = np.round(nba_data['Total Points'])\n",
    "\n",
    "# Update the Total Points to an integer to remove the '.0'.\n",
    "nba_data['Total Points'] = nba_data['Total Points'].astype(int)\n",
    "\n",
    "# Sort results by Total Points, descending, pulling back the top 5 results to answer who scored the most points; look for ties.\n",
    "nba_data_points = nba_data[['Name', 'Total Points']].sort_values(by = ['Total Points'], ascending = False).head()\n",
    "print(nba_data_points)\n",
    "\n",
    "\n",
    "## Answer: James Harden scored the most points, totaling 2,816."
   ]
  },
  {
   "cell_type": "markdown",
   "metadata": {},
   "source": [
    "# What player had the most blocks during the season? Was it a post player (F/C)?"
   ]
  },
  {
   "cell_type": "code",
   "execution_count": 35,
   "metadata": {},
   "outputs": [
    {
     "name": "stdout",
     "output_type": "stream",
     "text": [
      "                  Name  Total Blocks\n",
      "476       Myles Turner           200\n",
      "183        Rudy Gobert           186\n",
      "303        Brook Lopez           178\n",
      "419  Mitchell Robinson           158\n",
      "330       JaVale McGee           150\n"
     ]
    }
   ],
   "source": [
    "# Create a variable calculating each players total blocks, multiplying their blocks per game with the number of games played.\n",
    "total_blocks = nba_data.Blocks * nba_data.G\n",
    "\n",
    "# Add the Total Blocks variable as a column.\n",
    "nba_data['Total Blocks'] = total_blocks\n",
    "\n",
    "# Round the Total Blocks result to remove decimals as a player can't have a partial block.\n",
    "nba_data['Total Blocks'] = np.round(nba_data['Total Blocks'])\n",
    "\n",
    "# Update the Total Blocks to an integer to remove the '.0'.\n",
    "nba_data['Total Blocks'] = nba_data['Total Blocks'].astype(int)\n",
    "\n",
    "# Sort results by Total Blocks, descending, pulling back the top 5 results to answer who blocked the most shots; look for ties.\n",
    "nba_data_blocks = nba_data[['Name', 'Total Blocks']].sort_values(by = ['Total Blocks'], ascending = False).head()\n",
    "print(nba_data_blocks)\n",
    "\n",
    "\n",
    "## Answer1: Myles Turner had the most blocks, totaling 200.\n",
    "## Answer2: I don't see a data element that provides player position; google identifies Myles Turner as a Center."
   ]
  },
  {
   "cell_type": "markdown",
   "metadata": {},
   "source": [
    "# Based on the regular season, who had the best chance to win a title given their win percentage?"
   ]
  },
  {
   "cell_type": "code",
   "execution_count": 38,
   "metadata": {},
   "outputs": [
    {
     "name": "stdout",
     "output_type": "stream",
     "text": [
      "                     WS48\n",
      "Team                     \n",
      "Houston Rockets  0.139846\n",
      "Milwaukee Bucks  0.137929\n",
      "Boston Celtics   0.134867\n",
      "Toronto Raptors  0.126750\n",
      "Utah Jazz        0.123267\n"
     ]
    }
   ],
   "source": [
    "# I don't see a data element that cooresponds with a team or player win percentage.\n",
    "# I decided to use WS48, win shares per 48 minutes, to answer this question.\n",
    "\n",
    "# Use .groupby() and .mean() to find the WS48 mean; sort by average descending; bring back top 5 results; look for ties.\n",
    "nba_win_per = nba_data[['Team', 'WS48']].groupby('Team').mean('WS48').sort_values(by = ['WS48'], ascending = False).head()\n",
    "print(nba_win_per)\n",
    "\n",
    "\n",
    "## Answer: Based on the WS48 statistic, the Houston Rockets had the best chance to win a title based on the regular season."
   ]
  },
  {
   "cell_type": "markdown",
   "metadata": {},
   "source": [
    "# What player had the best 3-pt percentage? "
   ]
  },
  {
   "cell_type": "code",
   "execution_count": 39,
   "metadata": {},
   "outputs": [
    {
     "name": "stdout",
     "output_type": "stream",
     "text": [
      "              Name   FG3%\n",
      "312  Scott Machado  1.000\n",
      "439  Jordan Sibert  1.000\n",
      "147   Trevon Duval  1.000\n",
      "352  Eric Moreland  1.000\n",
      "95    Troy Caupain  0.667\n"
     ]
    }
   ],
   "source": [
    "# Sort the data by 3-pt percentage, descending, printing Name and 3-pt percentage; bring back the top 5 results to see ties.\n",
    "best_3_pt_percentage = nba_data.sort_values(by = ['FG3%'], ascending = False).head()\n",
    "print(best_3_pt_percentage[['Name', 'FG3%']])\n",
    "\n",
    "\n",
    "## Answer: Scott Machado, Jordan Sibert, Trevon Duval, and Eric Moreland all tied for the best 3-pt percentage at 100%. "
   ]
  },
  {
   "cell_type": "markdown",
   "metadata": {},
   "source": [
    "# Who played the most minutes during the season"
   ]
  },
  {
   "cell_type": "code",
   "execution_count": 41,
   "metadata": {},
   "outputs": [
    {
     "name": "stdout",
     "output_type": "stream",
     "text": [
      "              Name  Total Minutes\n",
      "37    Bradley Beal         3025.8\n",
      "202   James Harden         2870.4\n",
      "486   Kemba Walker         2861.8\n",
      "208  Tobias Harris         2845.4\n",
      "179    Paul George         2841.3\n"
     ]
    }
   ],
   "source": [
    "# Create a variable calculating each players total minutes, multiplying their minutes per game with the number of games played.\n",
    "total_minutes = nba_data.MP * nba_data.G\n",
    "\n",
    "# Add the Total Minutes variable as a column.\n",
    "nba_data['Total Minutes'] = total_minutes\n",
    "\n",
    "# Sort results by Total Minutes, descending, pulling back top 5 results to answer who played the most minutes; look for ties.\n",
    "nba_data_minutes = nba_data[['Name', 'Total Minutes']].sort_values(by = ['Total Minutes'], ascending = False).head()\n",
    "print(nba_data_minutes)\n",
    "\n",
    "\n",
    "## Answer: Bradley Beal played the most minutes during the season, totaling 3,025.8."
   ]
  },
  {
   "cell_type": "markdown",
   "metadata": {},
   "source": [
    "# What player given their player efficiency rating was the clutchest during the season?"
   ]
  },
  {
   "cell_type": "code",
   "execution_count": 42,
   "metadata": {},
   "outputs": [
    {
     "name": "stdout",
     "output_type": "stream",
     "text": [
      "                      Name   PER\n",
      "405                Zhou Qi  80.4\n",
      "147           Trevon Duval  38.3\n",
      "394         Gary Payton II  36.9\n",
      "501          Alan Williams  32.9\n",
      "15   Giannis Antetokounmpo  30.9\n"
     ]
    }
   ],
   "source": [
    "# Sort the data by PER, descending, printing Name and PER; bring back the top 5 results to see ties.\n",
    "best_PER = nba_data.sort_values(by = ['PER'], ascending = False).head()\n",
    "print(best_PER[['Name', 'PER']])\n",
    "\n",
    "\n",
    "## Answer: Zhou Qi was the clutchest during the season based on player efficiency rating (PER); PER of 80.4.\n",
    "## Zhou Qi only played 1 minute in 1 game all season.\n",
    "## Looking at minutes played, players that averaged at least half the game, Giannis Antetokounmpo would be most clutch. "
   ]
  },
  {
   "cell_type": "markdown",
   "metadata": {},
   "source": [
    "# What team had the youngest roster?"
   ]
  },
  {
   "cell_type": "code",
   "execution_count": 40,
   "metadata": {},
   "outputs": [
    {
     "data": {
      "text/html": [
       "<div>\n",
       "<style scoped>\n",
       "    .dataframe tbody tr th:only-of-type {\n",
       "        vertical-align: middle;\n",
       "    }\n",
       "\n",
       "    .dataframe tbody tr th {\n",
       "        vertical-align: top;\n",
       "    }\n",
       "\n",
       "    .dataframe thead th {\n",
       "        text-align: right;\n",
       "    }\n",
       "</style>\n",
       "<table border=\"1\" class=\"dataframe\">\n",
       "  <thead>\n",
       "    <tr style=\"text-align: right;\">\n",
       "      <th></th>\n",
       "      <th>Age</th>\n",
       "    </tr>\n",
       "    <tr>\n",
       "      <th>Team</th>\n",
       "      <th></th>\n",
       "    </tr>\n",
       "  </thead>\n",
       "  <tbody>\n",
       "    <tr>\n",
       "      <th>Chicago Bulls</th>\n",
       "      <td>24.312500</td>\n",
       "    </tr>\n",
       "    <tr>\n",
       "      <th>Sacramento Kings</th>\n",
       "      <td>24.400000</td>\n",
       "    </tr>\n",
       "    <tr>\n",
       "      <th>Orlando Magic</th>\n",
       "      <td>24.533333</td>\n",
       "    </tr>\n",
       "    <tr>\n",
       "      <th>New York Knicks</th>\n",
       "      <td>24.625000</td>\n",
       "    </tr>\n",
       "    <tr>\n",
       "      <th>Phoenix Suns</th>\n",
       "      <td>24.761905</td>\n",
       "    </tr>\n",
       "  </tbody>\n",
       "</table>\n",
       "</div>"
      ],
      "text/plain": [
       "                        Age\n",
       "Team                       \n",
       "Chicago Bulls     24.312500\n",
       "Sacramento Kings  24.400000\n",
       "Orlando Magic     24.533333\n",
       "New York Knicks   24.625000\n",
       "Phoenix Suns      24.761905"
      ]
     },
     "execution_count": 40,
     "metadata": {},
     "output_type": "execute_result"
    }
   ],
   "source": [
    "# Use .groupby() and .mean() to find the Age mean by team; bring back 5 teams with the lowest average to look for ties.\n",
    "nba_data.groupby('Team').mean('Age')[['Age']].sort_values(by = ['Age']).head()\n",
    "\n",
    "\n",
    "## Answer: The Chicago Bulls had the youngest roster, with an average player age of 24.31."
   ]
  },
  {
   "cell_type": "markdown",
   "metadata": {},
   "source": [
    "# Who is the highest paid player during the season?"
   ]
  },
  {
   "cell_type": "code",
   "execution_count": 52,
   "metadata": {},
   "outputs": [
    {
     "name": "stdout",
     "output_type": "stream",
     "text": [
      "                  Name      Salary\n",
      "121      Stephen Curry  37457154.0\n",
      "253       LeBron James  35654150.0\n",
      "391         Chris Paul  35654150.0\n",
      "496  Russell Westbrook  35654150.0\n",
      "198      Blake Griffin  32088932.0\n"
     ]
    }
   ],
   "source": [
    "# Create copy of the data and update the Salary column to replace '-' values with a 0 so data type can be reformatted to float.\n",
    "nba_data_copy = nba_data.copy()\n",
    "nba_data_copy['Salary'].replace('-', 0, inplace = True)\n",
    "\n",
    "# Update the data type of the Salary column to float.\n",
    "nba_data_copy['Salary'] = nba_data_copy['Salary'].astype(float)\n",
    "\n",
    "# Sort the data by Salary, descending, printing Name and Salary; bring back the top 5 results to see ties.\n",
    "highest_paid = nba_data_copy.sort_values(by = ['Salary'], ascending = False).head()\n",
    "print(highest_paid[['Name', 'Salary']])\n",
    "\n",
    "\n",
    "## Answer: Steph Curry was the highest paid player during the season, making $37,457,154.00."
   ]
  },
  {
   "cell_type": "markdown",
   "metadata": {},
   "source": [
    "# At the end of a game, who WOULDN'T you want on the Free Throw Line?"
   ]
  },
  {
   "cell_type": "code",
   "execution_count": 57,
   "metadata": {},
   "outputs": [
    {
     "name": "stdout",
     "output_type": "stream",
     "text": [
      "                   Name    FT%\n",
      "268      Terrence Jones  0.000\n",
      "356  Donatas Motiejunas  0.000\n",
      "325      Tahjere McCall  0.000\n",
      "502       C.J. Williams  0.000\n",
      "360         Dzanan Musa  0.000\n",
      "221   Haywood Highsmith  0.000\n",
      "168      Melvin Frazier  0.250\n",
      "310         Tyler Lydon  0.333\n",
      "451        Ray Spalding  0.333\n",
      "324    Luc Mbah a Moute  0.400\n"
     ]
    }
   ],
   "source": [
    "# Create a copy of the data and remove rows where the player had zero free throw attempts; must have attempted at least 1.\n",
    "nba_data_copy2 = nba_data.copy()\n",
    "nba_data_copy2 = nba_data_copy2.drop(nba_data_copy2[nba_data_copy2['FTA'] == 0].index)\n",
    "\n",
    "# Sort the data by free throw %, ascending, printing Name and FT%; bring back the top 10 results to see ties.\n",
    "low_free_throw = nba_data_copy2.sort_values(by = ['FT%']).head(10)\n",
    "print(low_free_throw[['Name', 'FT%']])\n",
    "\n",
    "\n",
    "## Answer: I wouldn't want Terrence Jones, Donatas Motiejunas, Tahjere McCall, C.J. Williams, Dzanan Musa, Haywood Highsmith."
   ]
  }
 ],
 "metadata": {
  "kernelspec": {
   "display_name": "Python 3 (ipykernel)",
   "language": "python",
   "name": "python3"
  },
  "language_info": {
   "codemirror_mode": {
    "name": "ipython",
    "version": 3
   },
   "file_extension": ".py",
   "mimetype": "text/x-python",
   "name": "python",
   "nbconvert_exporter": "python",
   "pygments_lexer": "ipython3",
   "version": "3.11.7"
  }
 },
 "nbformat": 4,
 "nbformat_minor": 2
}
