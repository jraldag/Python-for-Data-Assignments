{
 "cells": [
  {
   "cell_type": "markdown",
   "metadata": {
    "id": "KdERlTpFuL5V"
   },
   "source": [
    "# Exercises"
   ]
  },
  {
   "cell_type": "markdown",
   "metadata": {
    "id": "to-gsrQyuL5Z"
   },
   "source": [
    "### #1 - Calculate the BMI (body mass index) on the two lists below using NDArrays..."
   ]
  },
  {
   "cell_type": "code",
   "execution_count": 136,
   "metadata": {
    "id": "iZlf9DzeuL5a"
   },
   "outputs": [
    {
     "name": "stdout",
     "output_type": "stream",
     "text": [
      "BMI #1: 16.866204578869986\n",
      "BMI #2: 17.877551020408163\n",
      "BMI #3: 18.825629835350128\n",
      "BMI #4: 19.714506172839506\n",
      "BMI #5: 20.54794520547945\n",
      "BMI #6: 21.329437545653764\n",
      "BMI #7: 22.06222222222222\n"
     ]
    }
   ],
   "source": [
    "import numpy as np\n",
    "# formula = weight / (height**2) * 730\n",
    "height = [69, 70, 71, 72, 73, 74, 75]\n",
    "weight = [110, 120, 130, 140, 150, 160, 170]\n",
    "\n",
    "arr_height = np.array(height)\n",
    "arr_weight = np.array(weight)\n",
    "\n",
    "bmi = arr_weight / (arr_height ** 2) * 730\n",
    "y = 1\n",
    "for i in bmi:\n",
    "    print(f'BMI #{y}: {i}')\n",
    "    y += 1\n",
    "    "
   ]
  },
  {
   "cell_type": "markdown",
   "metadata": {
    "id": "RSsT8w8ouL5b"
   },
   "source": [
    "### #2 - Create a function that will take in two parameters and will create a random matrix based off of those parameters. Extra: Have additional parameters taken in that allow the user to choose the shape and data type of the matrix."
   ]
  },
  {
   "cell_type": "code",
   "execution_count": 139,
   "metadata": {
    "id": "ygFvj0aeuL5b"
   },
   "outputs": [
    {
     "name": "stdout",
     "output_type": "stream",
     "text": [
      "\n",
      " [[0.22216944 0.79250177 0.71845672 0.0802274 ]\n",
      " [0.42568594 0.55224897 0.9925371  0.35061385]]\n",
      "\n",
      " [[8 6 7 1 3]\n",
      " [3 2 7 4 6]\n",
      " [9 9 7 4 4]]\n",
      "\n",
      " [[82.70021956 44.79306353 77.97396123 61.42045161 29.92393051 88.10571445\n",
      "  73.62956479 51.88656591 80.62951895 94.47753051]\n",
      " [49.5112941  89.54678761 97.1355553  23.55886089 64.66972011 11.46155334\n",
      "  81.6313777  23.59063265 66.49603779 63.36107766]\n",
      " [73.85366745 77.87422746 74.00208107 53.23369196 38.42848481 44.5651734\n",
      "  15.64042179 68.51611602 52.58251686 15.45268326]\n",
      " [76.01552483 49.44486061 57.33422012 47.62715198 84.15723537 70.7266246\n",
      "  55.19155227 48.49583244 97.53651065 60.40278859]\n",
      " [22.89834661 43.02667088 74.57363948 58.5732175  92.3011283  99.72160659\n",
      "  99.54413505 84.18327416 62.7545348  61.21181441]\n",
      " [51.3837132  27.80886227 83.46062989 91.34496028 84.45771752 48.79172366\n",
      "  95.02348938 94.99814391 76.35197767 42.83070692]\n",
      " [16.33495227 76.966279   74.2063242  55.51629811 57.65954222 93.18941412\n",
      "  95.75581983 57.19157929 91.09211501 98.96068753]\n",
      " [12.74035143 20.45478243 29.87561707 40.15860787 35.26142989 90.32602373\n",
      "  96.55717103 35.70582441 26.27875484 35.27087361]\n",
      " [94.40712972 40.85135863 34.49565642 76.0425998  38.8130698  90.5974598\n",
      "  17.35973125 84.76151485 65.78737448 87.35279401]\n",
      " [55.28885819 69.1605972  32.38339906 48.77806303 83.29237628 60.63828421\n",
      "  34.16869785 48.25488875 19.65764695 89.35526212]]\n"
     ]
    }
   ],
   "source": [
    "# Create a function that will take in two parameters and will create a random matrix based off of those paramters.\n",
    "def my_func_1(row_num, col_num):\n",
    "    i = np.random.random((row_num, col_num))\n",
    "    j = np.matrix(i)\n",
    "    print('\\n',j)\n",
    " \n",
    "my_func_1(2,4)\n",
    "\n",
    "\n",
    "# Extra: Have additional paramters taken in that allow the user to choose the shape and data type of the matrix.\n",
    "def my_func_2(rand_num_low, rand_num_high, row_num, col_num, data_type):\n",
    "    i = np.random.uniform(rand_num_low, rand_num_high, (row_num, col_num))\n",
    "    y = i.astype(data_type)\n",
    "    print('\\n',y)\n",
    "    \n",
    "my_func_2(1, 10, 3, 5, np.int8)\n",
    "my_func_2(10, 100, 10, 10, np.float64)   \n"
   ]
  },
  {
   "cell_type": "markdown",
   "metadata": {
    "id": "e5mP1UX9uL5c"
   },
   "source": [
    "### #3 - Extra: Open and load the data in the two text files that have the Boston Red Sox hitting data for the past seasons. Compare the difference in the two years by putting the data into an NDArray and running a differencial operation on it. The column to look for will be SLG.\n",
    "\n",
    "Your output should display which year (either 2017 or 2018) was a better year based on SLG"
   ]
  },
  {
   "cell_type": "code",
   "execution_count": 122,
   "metadata": {
    "id": "iAExC-SjuL5c"
   },
   "outputs": [],
   "source": [
    "import csv\n",
    "import numpy as np\n"
   ]
  },
  {
   "cell_type": "code",
   "execution_count": 162,
   "metadata": {
    "id": "P8Rwr8lmuL5e"
   },
   "outputs": [
    {
     "name": "stdout",
     "output_type": "stream",
     "text": [
      "The total SLG percentage for the 2017 Boston Red Sox was 0.4076500796883301.\n",
      "The total SLG percentage for the 2018 Boston Red Sox was 0.4539614561027837.\n",
      "\n",
      "When comparing 2017 and 2018, the Boston Red Sox had a better year in 2018 based on SLG percentage.\n"
     ]
    }
   ],
   "source": [
    "FIELDS = ['Rk', 'Pos', 'Name', 'Age', 'G', 'PA', 'AB', 'R', 'H', '2B', '3B', 'HR', 'RBI', 'SB', 'CS', \n",
    "          'BB', 'SO', 'BA', 'OBP', 'SLG', 'OPS', 'OPS+', 'TB', 'GDP', 'HBP', 'SH', 'SF', 'IBB']\n",
    "\n",
    "DATATYPES = [('rk', 'i'), ('pos', '|S25'), ('name', '|S25'), ('age', 'i'), ('g', 'i'), ('pa', 'i'), ('ab', 'i'),\n",
    "                ('r', 'i'), ('h', 'i'), ('2b', 'i'), ('3b', 'i'), ('hr', 'i'), ('rbi', 'i'), ('sb', 'i'), ('cs', 'i'),\n",
    "                ('bb', 'i'), ('so', 'i'), ('ba', 'f'), ('obp', 'f'), ('slg', 'f'), ('ops', 'f'), ('opsp', 'i'),\n",
    "                ('tb', 'i'), ('gdp', 'i'), ('hbp', 'i'), ('sh', 'i'), ('sf', 'i'), ('ibb', 'i')]\n",
    "\n",
    "# Use this function to actually open the data inside of a NDArray\n",
    "def open_csv(filename, d = ','):\n",
    "    data = np.genfromtxt(filename, delimiter = d, skip_header = 1,\n",
    "                        usecols = np.arange(0, 27), invalid_raise = False,\n",
    "                        names = FIELDS, dtype = DATATYPES)\n",
    "    return data\n",
    "\n",
    "bs2017 = open_csv('redsox_2017_hitting.txt')\n",
    "bs2018 = open_csv('redsox_2018_hitting.txt')\n",
    "\n",
    "# SLG = (singles + doubles*2 + triples*3 + homeruns*4) / at-bats\n",
    "\n",
    "# 2017\n",
    "total_ab_2017 = sum(bs2017['AB'])\n",
    "total_1b_2017 = sum(bs2017['H']) - sum(bs2017['2B']) - sum(bs2017['3B']) - sum(bs2017['HR'])\n",
    "total_2b_2017 = sum(bs2017['2B']) * 2\n",
    "total_3b_2017 = sum(bs2017['3B']) * 3\n",
    "total_hr_2017 = sum(bs2017['HR']) * 4\n",
    "\n",
    "# 2018\n",
    "total_ab_2018 = sum(bs2018['AB'])\n",
    "total_1b_2018 = sum(bs2018['H']) - sum(bs2018['2B']) - sum(bs2018['3B']) - sum(bs2018['HR'])\n",
    "total_2b_2018 = sum(bs2018['2B']) * 2\n",
    "total_3b_2018 = sum(bs2018['3B']) * 3\n",
    "total_hr_2018 = sum(bs2018['HR']) * 4\n",
    "\n",
    "# Team SLG Calculations\n",
    "slg_2017 = (total_1b_2017 + total_2b_2017 + total_3b_2017 + total_hr_2017) / total_ab_2017\n",
    "slg_2018 = (total_1b_2018 + total_2b_2018 + total_3b_2018 + total_hr_2018) / total_ab_2018\n",
    "\n",
    "print(f\"The total SLG percentage for the 2017 Boston Red Sox was {slg_2017}.\")\n",
    "print(f\"The total SLG percentage for the 2018 Boston Red Sox was {slg_2018}.\")\n",
    "\n",
    "# Final Comparison and Output\n",
    "if slg_2017 > slg_2018:\n",
    "    print(\"\\nWhen comparing 2017 and 2018, the Boston Red Sox had a better year in 2017 based on SLG percentage.\")\n",
    "else:\n",
    "    print(\"\\nWhen comparing 2017 and 2018, the Boston Red Sox had a better year in 2018 based on SLG percentage.\")"
   ]
  },
  {
   "cell_type": "code",
   "execution_count": null,
   "metadata": {},
   "outputs": [],
   "source": []
  }
 ],
 "metadata": {
  "colab": {
   "name": "Copy of Data_Science_Day_1_Exercises-Day1- Homework.ipynb",
   "provenance": []
  },
  "kernelspec": {
   "display_name": "Python 3 (ipykernel)",
   "language": "python",
   "name": "python3"
  },
  "language_info": {
   "codemirror_mode": {
    "name": "ipython",
    "version": 3
   },
   "file_extension": ".py",
   "mimetype": "text/x-python",
   "name": "python",
   "nbconvert_exporter": "python",
   "pygments_lexer": "ipython3",
   "version": "3.11.7"
  }
 },
 "nbformat": 4,
 "nbformat_minor": 1
}
