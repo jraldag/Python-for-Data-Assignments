{
  "cells": [
    {
      "cell_type": "markdown",
      "metadata": {
        "id": "7UYh7J5XUTvn"
      },
      "source": [
        "# Object-Oriented-Programming (OOP)"
      ]
    },
    {
      "cell_type": "markdown",
      "metadata": {
        "id": "X4t0vdFtUTvq"
      },
      "source": [
        "## Tasks Today:\n",
        "\n",
        "   \n",
        "\n",
        "1) <b>Creating a Class (Initializing/Declaring)</b> <br>\n",
        "2) <b>Using a Class (Instantiating)</b> <br>\n",
        " &nbsp;&nbsp;&nbsp;&nbsp; a) Creating One Instance <br>\n",
        " &nbsp;&nbsp;&nbsp;&nbsp; b) Creating Multiple Instances <br>\n",
        " &nbsp;&nbsp;&nbsp;&nbsp; c) In-Class Exercise #1 - Create a Class 'Car' and instantiate three different makes of cars <br>\n",
        "3) <b>The \\__init\\__() Method</b> <br>\n",
        " &nbsp;&nbsp;&nbsp;&nbsp; a) The 'self' Attribute <br>\n",
        "4) <b>Class Attributes</b> <br>\n",
        " &nbsp;&nbsp;&nbsp;&nbsp; a) Initializing Attributes <br>\n",
        " &nbsp;&nbsp;&nbsp;&nbsp; b) Setting an Attribute Outside of the \\__init\\__() Method <br>\n",
        " &nbsp;&nbsp;&nbsp;&nbsp; c) Setting Defaults for Attributes <br>\n",
        " &nbsp;&nbsp;&nbsp;&nbsp; d) Accessing Class Attributes <br>\n",
        " &nbsp;&nbsp;&nbsp;&nbsp; e) Changing Class Attributes <br>\n",
        " &nbsp;&nbsp;&nbsp;&nbsp; f) In-Class Exercise #2 - Add a color and wheels attribute to your 'Car' class <br>\n",
        "5) <b>Class Methods</b> <br>\n",
        " &nbsp;&nbsp;&nbsp;&nbsp; a) Creating <br>\n",
        " &nbsp;&nbsp;&nbsp;&nbsp; b) Calling <br>\n",
        " &nbsp;&nbsp;&nbsp;&nbsp; c) Modifying an Attribute's Value Through a Method <br>\n",
        " &nbsp;&nbsp;&nbsp;&nbsp; d) Incrementing an Attribute's Value Through a Method <br>\n",
        " &nbsp;&nbsp;&nbsp;&nbsp; e) In-Class Exercise #3 - Add a method that prints the cars color and wheel number, then call them <br>\n",
        "6) <b>Inheritance</b> <br>\n",
        " &nbsp;&nbsp;&nbsp;&nbsp; a) Syntax for Inheriting from a Parent Class <br>\n",
        " &nbsp;&nbsp;&nbsp;&nbsp; b) The \\__init\\__() Method for a Child Class (super()) <br>\n",
        " &nbsp;&nbsp;&nbsp;&nbsp; c) Defining Attributes and Methods for the Child Class <br>\n",
        " &nbsp;&nbsp;&nbsp;&nbsp; d) Method Overriding <br>\n",
        " &nbsp;&nbsp;&nbsp;&nbsp; e) In-Class Exercise #4 - Create a class 'Ford' that inherits from 'Car' class and initialize it as a Blue Ford Explorer with 4 wheels using the super() method <br>\n",
        "7) <b>Classes as Attributes</b> <br>\n",
        "8) <b>Exercises</b> <br>\n",
        " &nbsp;&nbsp;&nbsp;&nbsp; a) Exercise #1 - Turn the shopping cart program from yesterday into an object-oriented program <br>"
      ]
    },
    {
      "cell_type": "markdown",
      "metadata": {
        "id": "zU6bv3jXUTvr"
      },
      "source": [
        "## Creating a Class (Initializing/Declaring)\n",
        "<p>When creating a class, function, or even a variable you are initializing that object. Initializing and Declaring occur at the same time in Python, whereas in lower level languages you have to declare an object before initializing it. This is the first step in the process of using a class.</p>"
      ]
    },
    {
      "cell_type": "code",
      "execution_count": null,
      "metadata": {
        "id": "pUfMghudUTvs"
      },
      "outputs": [],
      "source": [
        "class Car():\n",
        "    wheels = 4\n",
        "    color = 'blue'"
      ]
    },
    {
      "cell_type": "markdown",
      "metadata": {
        "id": "vNr9h9rPUTvt"
      },
      "source": [
        "## Using a Class (Instantiating)\n",
        "<p>The process of creating a class is called <i>Instantiating</i>. Each time you create a variable of that type of class, it is referred to as an <i>Instance</i> of that class. This is the second step in the process of using a class.</p>"
      ]
    },
    {
      "cell_type": "markdown",
      "metadata": {
        "id": "K1oVLQicUTvt"
      },
      "source": [
        "##### Creating One Instance"
      ]
    },
    {
      "cell_type": "code",
      "execution_count": null,
      "metadata": {
        "colab": {
          "base_uri": "https://localhost:8080/"
        },
        "id": "Mc4oSKe9UTvu",
        "outputId": "b7450d84-b562-46fe-f228-bba0a4e47df4"
      },
      "outputs": [
        {
          "name": "stdout",
          "output_type": "stream",
          "text": [
            "4\n"
          ]
        }
      ],
      "source": [
        "ford = Car()\n",
        "print(ford.wheels)"
      ]
    },
    {
      "cell_type": "markdown",
      "metadata": {
        "id": "hbgRHnQxUTvu"
      },
      "source": [
        "##### Creating Multiple Instances"
      ]
    },
    {
      "cell_type": "code",
      "execution_count": null,
      "metadata": {
        "colab": {
          "base_uri": "https://localhost:8080/",
          "height": 193
        },
        "id": "9JA5ZEtEUTvu",
        "outputId": "e07448c7-f661-407b-a681-eb8b7d4eb0d4"
      },
      "outputs": [
        {
          "name": "stdout",
          "output_type": "stream",
          "text": [
            "<class 'str'>\n"
          ]
        },
        {
          "ename": "AttributeError",
          "evalue": "'Car' object has no attribute 'bumper'",
          "output_type": "error",
          "traceback": [
            "\u001b[0;31m---------------------------------------------------------------------------\u001b[0m",
            "\u001b[0;31mAttributeError\u001b[0m                            Traceback (most recent call last)",
            "\u001b[0;32m<ipython-input-5-588218de20be>\u001b[0m in \u001b[0;36m<cell line: 6>\u001b[0;34m()\u001b[0m\n\u001b[1;32m      4\u001b[0m \u001b[0;34m\u001b[0m\u001b[0m\n\u001b[1;32m      5\u001b[0m \u001b[0mprint\u001b[0m\u001b[0;34m(\u001b[0m\u001b[0mtype\u001b[0m\u001b[0;34m(\u001b[0m\u001b[0mporsche\u001b[0m\u001b[0;34m.\u001b[0m\u001b[0mcolor\u001b[0m\u001b[0;34m)\u001b[0m\u001b[0;34m)\u001b[0m\u001b[0;34m\u001b[0m\u001b[0;34m\u001b[0m\u001b[0m\n\u001b[0;32m----> 6\u001b[0;31m \u001b[0mprint\u001b[0m\u001b[0;34m(\u001b[0m\u001b[0mporsche\u001b[0m\u001b[0;34m.\u001b[0m\u001b[0mbumper\u001b[0m\u001b[0;34m)\u001b[0m\u001b[0;34m\u001b[0m\u001b[0;34m\u001b[0m\u001b[0m\n\u001b[0m",
            "\u001b[0;31mAttributeError\u001b[0m: 'Car' object has no attribute 'bumper'"
          ]
        }
      ],
      "source": [
        "chevy = Car()\n",
        "honda = Car()\n",
        "porsche = Car()\n",
        "\n",
        "print(type(porsche.color))\n",
        "print(porsche.bumper)"
      ]
    },
    {
      "cell_type": "markdown",
      "metadata": {
        "id": "v9bd5lNrUTvu"
      },
      "source": [
        "##### In-Class Exercise #1 - Create a Class 'Car' and Instantiate three different makes of cars"
      ]
    },
    {
      "cell_type": "code",
      "execution_count": null,
      "metadata": {
        "colab": {
          "base_uri": "https://localhost:8080/"
        },
        "id": "cMqjPhrXUTvv",
        "outputId": "4860b33b-e8ba-44b5-e38d-96f251ad1619"
      },
      "outputs": [
        {
          "name": "stdout",
          "output_type": "stream",
          "text": [
            "2\n",
            "hybrid\n",
            "black leather\n"
          ]
        }
      ],
      "source": [
        "class Car():\n",
        "    wheels = 4\n",
        "    doors = 2\n",
        "    seating = 4\n",
        "    color = 'blue'\n",
        "    interior = 'black leather'\n",
        "    power = 'hybrid'\n",
        "\n",
        "ferrari = Car()\n",
        "mercedes_benz = Car()\n",
        "audi = Car()\n",
        "\n",
        "print(mercedes_benz.doors)\n",
        "print(audi.power)\n",
        "print(ferrari.interior)"
      ]
    },
    {
      "cell_type": "markdown",
      "metadata": {
        "id": "Dsx-NZApUTvv"
      },
      "source": [
        "## The \\__init\\__() Method <br>\n",
        "<p>This method is used in almost every created class, and called only once upon the creation of the class instance. This method will initialize all variables needed for the object.</p>"
      ]
    },
    {
      "cell_type": "code",
      "execution_count": null,
      "metadata": {
        "colab": {
          "base_uri": "https://localhost:8080/"
        },
        "id": "7rjQoBx5UTvv",
        "outputId": "0abafd97-e7d3-4435-f965-0e4e7369d80b"
      },
      "outputs": [
        {
          "name": "stdout",
          "output_type": "stream",
          "text": [
            "4\n",
            "6\n"
          ]
        }
      ],
      "source": [
        "class Car():\n",
        "  engine = '4.7L' # constant attribute\n",
        "\n",
        "  def __init__(self, wheels, color):\n",
        "    self.wheels = wheels\n",
        "    self.color = color\n",
        "\n",
        "ford = Car(4, 'red')\n",
        "chevy = Car(6, 'black')\n",
        "\n",
        "print(ford.wheels)\n",
        "print(chevy.wheels)"
      ]
    },
    {
      "cell_type": "markdown",
      "metadata": {
        "id": "j5abzMUXUTvv"
      },
      "source": [
        "##### The 'self' Attribute <br>\n",
        "<p>This attribute is required to keep track of specific instance's attributes. Without the self attribute, the program would not know how to reference or keep track of an instance's attributes.</p>"
      ]
    },
    {
      "cell_type": "code",
      "execution_count": null,
      "metadata": {
        "id": "KoV-eoDWUTvw"
      },
      "outputs": [],
      "source": [
        "# see above"
      ]
    },
    {
      "cell_type": "markdown",
      "metadata": {
        "id": "KelRBp_5UTvw"
      },
      "source": [
        "## Class Attributes <br>\n",
        "<p>While variables are inside of a class, they are referred to as attributes and not variables. When someone says 'attribute' you know they're speaking about a class. Attributes can be initialized through the init method, or outside of it.</p>"
      ]
    },
    {
      "cell_type": "markdown",
      "metadata": {
        "id": "xfLb_URQUTvw"
      },
      "source": [
        "##### Initializing Attributes"
      ]
    },
    {
      "cell_type": "code",
      "execution_count": null,
      "metadata": {
        "id": "dqDyp6ovUTvw"
      },
      "outputs": [],
      "source": [
        "# see above\n",
        "\n",
        "class Toy():\n",
        "  kind = 'car'\n",
        "\n",
        "  def __init__(self, rooftop, horn, wheels = 4):\n",
        "    self.rooftop = rooftop\n",
        "    self.horn = horn\n",
        "    self.wheels = wheels\n",
        "\n",
        "tonka_truck = Toy(1, 1,)\n",
        "hotwheels_car = Toy(2, 3, 8)\n",
        "\n",
        "# Avoids:\n",
        "# my_daily_driver_wheels = 5\n",
        "# my_daily_driver_rooftop = 'sunroof'\n",
        "# my_daily_driver_horn = 1"
      ]
    },
    {
      "cell_type": "markdown",
      "metadata": {
        "id": "Rz1JniHKUTvw"
      },
      "source": [
        "##### Accessing Class Attributes"
      ]
    },
    {
      "cell_type": "code",
      "execution_count": null,
      "metadata": {
        "colab": {
          "base_uri": "https://localhost:8080/"
        },
        "id": "K-ibZuFQUTvx",
        "outputId": "dd5813dc-d46c-4987-a928-8a165eb1eed3",
        "scrolled": true
      },
      "outputs": [
        {
          "name": "stdout",
          "output_type": "stream",
          "text": [
            "1\n",
            "8\n"
          ]
        }
      ],
      "source": [
        "# See Above\n",
        "\n",
        "print(tonka_truck.horn)\n",
        "print(hotwheels_car.wheels)"
      ]
    },
    {
      "cell_type": "markdown",
      "metadata": {
        "id": "OZhSg1aVUTvx"
      },
      "source": [
        "##### Setting Defaults for Attributes"
      ]
    },
    {
      "cell_type": "code",
      "execution_count": null,
      "metadata": {
        "colab": {
          "base_uri": "https://localhost:8080/"
        },
        "id": "qsvqsIEcUTvx",
        "outputId": "63f854d5-1414-4a13-c843-9a4fe291aa4c"
      },
      "outputs": [
        {
          "name": "stdout",
          "output_type": "stream",
          "text": [
            "blue\n",
            "4\n",
            "5.4L\n",
            "<__main__.Car object at 0x7f31a8f2b7c0>\n"
          ]
        }
      ],
      "source": [
        "class Car():\n",
        "  engine = '4.7L'\n",
        "\n",
        "  def __init__(self, wheels):\n",
        "    self.wheels = wheels\n",
        "    self.color = 'Blue' # Cannot overwrite!\n",
        "\n",
        "Honda = Car(4)\n",
        "print(honda.color)\n",
        "print(honda.wheels)\n",
        "honda.engine = '5.4L'\n",
        "print(honda.engine)\n",
        "print(honda)"
      ]
    },
    {
      "cell_type": "markdown",
      "metadata": {
        "id": "Taf6AF00UTvx"
      },
      "source": [
        "##### Changing Class Attributes <br>\n",
        "<p>Keep in mind there are global class attributes and then there are attributes only available to each class instance which won't effect other classes.</p>"
      ]
    },
    {
      "cell_type": "code",
      "execution_count": null,
      "metadata": {
        "id": "2dJOJlG7UTvx"
      },
      "outputs": [],
      "source": [
        "# see above"
      ]
    },
    {
      "cell_type": "code",
      "execution_count": null,
      "metadata": {
        "id": "OMLs_eGeUTvy"
      },
      "outputs": [],
      "source": []
    },
    {
      "cell_type": "markdown",
      "metadata": {
        "id": "rrSbsis2UTvy"
      },
      "source": [
        "##### In-Class Exercise #2 - Add a doors and seats attribute to your 'Car' class then print out two different instances with different doors and seats"
      ]
    },
    {
      "cell_type": "code",
      "execution_count": null,
      "metadata": {
        "colab": {
          "base_uri": "https://localhost:8080/"
        },
        "id": "rpj2gKW6UTvy",
        "outputId": "d5d593d3-7a74-4805-f2fe-bced27b89f62"
      },
      "outputs": [
        {
          "name": "stdout",
          "output_type": "stream",
          "text": [
            "2\n",
            "5\n"
          ]
        }
      ],
      "source": [
        "class Car():\n",
        "  wheels = 4\n",
        "\n",
        "  def __init__(self, doors, seats, color, interior, power):\n",
        "    self.doors = doors\n",
        "    self.seats = seats\n",
        "    self.color = color\n",
        "    self.interior = interior\n",
        "    self.power = power\n",
        "\n",
        "Ferrari = Car(2, 2, 'Red', 'Leather', '6.3L V12')\n",
        "Mercedes_Benz = Car(2, 4, 'Black', 'Cloth', 'M256 3.0L')\n",
        "Audi = Car(4, 5, 'White', 'Leather', 'e-tron')\n",
        "\n",
        "print(Ferrari.doors)\n",
        "print(Audi.seats)"
      ]
    },
    {
      "cell_type": "markdown",
      "metadata": {
        "id": "DVpwzN1vUTvy"
      },
      "source": [
        "## Class Methods <br>\n",
        "<p>While inside of a class, functions are referred to as 'methods'. If you hear someone mention methods, they're speaking about classes. Methods are essentially functions, but only callable on the instances of a class.</p>"
      ]
    },
    {
      "cell_type": "markdown",
      "metadata": {
        "id": "9GoSGQE8UTvy"
      },
      "source": [
        "##### Creating"
      ]
    },
    {
      "cell_type": "code",
      "execution_count": null,
      "metadata": {
        "id": "A6yOf4cQUTvy"
      },
      "outputs": [],
      "source": [
        "class ShoppingBag():\n",
        "\n",
        "  '''\n",
        "    The ShoppingBag class will have handles, capacity,\n",
        "    and items to place inside.\n",
        "\n",
        "    Attributes for the class:\n",
        "    - handles: expected to be an integer\n",
        "    - capacity: expected to be an integer\n",
        "    - items: expected to be a list\n",
        "  '''\n",
        "\n",
        "  def __init__(self, handles, items = [], capacity = 10):\n",
        "    self.handles = handles\n",
        "    self.items = items\n",
        "    self.capacity = capacity\n",
        "\n",
        "  def showsShoppingBag(self):\n",
        "    if len(self.items) == 0:\n",
        "      print(\"You have no items.\")\n",
        "    else:\n",
        "      print(\"You have items in your bag!!!\")\n",
        "      for item in self.items:\n",
        "        print(item)\n",
        "\n",
        "  def showCapacity(self):\n",
        "    print(f\"Your remaining capacity is: {self.capacity - len(self.items)}\")\n",
        "\n",
        "  def addToShoppingBag(self):\n",
        "    if len(self.items) == self.capacity:\n",
        "      print(\"You have no room!\")\n",
        "    else:\n",
        "      product = input(\"What would you like to add? \")\n",
        "      self.items.append(product)\n",
        "\n",
        "  def showHandles(self):\n",
        "    print(f\"You have {self.handles} handles on your bag.\")\n",
        "\n"
      ]
    },
    {
      "cell_type": "markdown",
      "metadata": {
        "id": "AGwsEGyhUTvz"
      },
      "source": [
        "##### Calling"
      ]
    },
    {
      "cell_type": "code",
      "execution_count": null,
      "metadata": {
        "colab": {
          "base_uri": "https://localhost:8080/"
        },
        "id": "2y_KKJ8_UTvz",
        "outputId": "3226a1dc-1dbc-4ba2-954e-e1ba574539b4"
      },
      "outputs": [
        {
          "name": "stdout",
          "output_type": "stream",
          "text": [
            "You have 2 handles on your bag.\n"
          ]
        }
      ],
      "source": [
        "# See Above\n",
        "\n",
        "wholeFoodsBag = ShoppingBag(2)\n",
        "\n",
        "from IPython.display import clear_output\n",
        "\n",
        "def run():\n",
        "  while True:\n",
        "    response = input(\"What would you like to do?\\n\\nYou may:\\n- Add\\n- Show\\n- Quit\\n\")\n",
        "    if response.lower() == 'quit':\n",
        "      clear_output()\n",
        "      wholeFoodsBag.showsShoppingBag()\n",
        "      print(\"Thanks for shopping!\")\n",
        "      break\n",
        "    elif response.lower() == 'add':\n",
        "      clear_output()\n",
        "      wholeFoodsBag.addToShoppingBag()\n",
        "    elif response.lower() == 'show':\n",
        "      showChoice = input(\"What would you like to see: \\n- Capacity\\n- Handles\\n- Shopping Bag\\n\")\n",
        "      if showChoice.lower() == 'capacity':\n",
        "        clear_output()\n",
        "        wholeFoodsBag.showCapacity()\n",
        "      elif showChoice.lower() == 'handles':\n",
        "        clear_output()\n",
        "        wholeFoodsBag.showHandles()\n",
        "      else:\n",
        "        clear_output()\n",
        "        wholeFoodsBag.showsShoppingBag()\n",
        "    else:\n",
        "      clear_output()\n",
        "      print(\"That is not a valid option. Please enter add, show, or quit.\")\n",
        "\n",
        "run()"
      ]
    },
    {
      "cell_type": "markdown",
      "metadata": {
        "id": "fyISTomeUTvz"
      },
      "source": [
        "##### Modifying an Attribute's Value Through a Method"
      ]
    },
    {
      "cell_type": "code",
      "execution_count": null,
      "metadata": {
        "id": "OxJQklJxUTvz"
      },
      "outputs": [],
      "source": []
    },
    {
      "cell_type": "markdown",
      "metadata": {
        "id": "T-fiNFPwUTvz"
      },
      "source": [
        "##### Incrementing an Attribute's Value Through a Method"
      ]
    },
    {
      "cell_type": "code",
      "execution_count": null,
      "metadata": {
        "id": "7mt3kkP8UTv0"
      },
      "outputs": [],
      "source": []
    },
    {
      "cell_type": "markdown",
      "metadata": {
        "id": "Bi5VsJ9jUTv0"
      },
      "source": [
        "##### In-Class Exercise #3 - Add a method that takes in three parameters of year, doors and seats and prints out a formatted print statement with make, model, year, seats, and doors"
      ]
    },
    {
      "cell_type": "code",
      "execution_count": null,
      "metadata": {
        "colab": {
          "base_uri": "https://localhost:8080/"
        },
        "id": "Y6Lw3sigUTv0",
        "outputId": "9c9575b5-79eb-4449-fcdd-bda9698b6be7"
      },
      "outputs": [
        {
          "name": "stdout",
          "output_type": "stream",
          "text": [
            "Enter year. 2019\n",
            "Enter the number of doors. 4\n",
            "Enter the number of seats. 5\n",
            "This car is from 2019 and is a Ford Explorer and has 4 doors and 5 seats.\n"
          ]
        }
      ],
      "source": [
        "# Create class with 2 paramters inside of the __init__ which are make and model\n",
        "\n",
        "# Inside of the Car class create a method that has 4 parameter in total (self,year,door,seats)\n",
        "\n",
        "# Output: This car is from 2019 and is a Ford Explorer and has 4 doors and 5 seats\n",
        "\n",
        "class Car():\n",
        "\n",
        "  def __init__(self, make, model):\n",
        "    self.make = make\n",
        "    self.model = model\n",
        "\n",
        "  def add_year_doors_seats(self):\n",
        "    self.year = input(\"Enter year. \")\n",
        "    self.doors = input(\"Enter the number of doors. \")\n",
        "    self.seats = input(\"Enter the number of seats. \")\n",
        "    print(f\"This car is from {self.year} and is a {self.make} {self.model} and has {self.doors} doors and {self.seats} seats.\")\n",
        "\n",
        "ford_suv = Car('Ford', 'Explorer')\n",
        "\n",
        "def exercise_3():\n",
        "  ford_suv.add_year_doors_seats()\n",
        "\n",
        "exercise_3()\n",
        "\n",
        "\n"
      ]
    },
    {
      "cell_type": "markdown",
      "metadata": {
        "id": "6JyeRg7XUTv0"
      },
      "source": [
        "## Inheritance <br>\n",
        "<p>You can create a child-parent relationship between two classes by using inheritance. What this allows you to do is have overriding methods, but also inherit traits from the parent class. Think of it as an actual parent and child, the child will inherit the parent's genes, as will the classes in OOP</p>"
      ]
    },
    {
      "cell_type": "markdown",
      "metadata": {
        "id": "Jqu6SLu5UTv8"
      },
      "source": [
        "##### Syntax for Inheriting from a Parent Class"
      ]
    },
    {
      "cell_type": "code",
      "execution_count": null,
      "metadata": {
        "id": "sU_Zx5YwUTv8"
      },
      "outputs": [],
      "source": []
    },
    {
      "cell_type": "markdown",
      "metadata": {
        "id": "CW1y3D9VUTv8"
      },
      "source": [
        "##### The \\__init\\__() Method for a Child Class - super()"
      ]
    },
    {
      "cell_type": "code",
      "execution_count": null,
      "metadata": {
        "id": "UTXnEIMMUTv8",
        "scrolled": true
      },
      "outputs": [],
      "source": []
    },
    {
      "cell_type": "markdown",
      "metadata": {
        "id": "tzjZR1Q4UTv9"
      },
      "source": [
        "##### Defining Attributes and Methods for the Child Class"
      ]
    },
    {
      "cell_type": "code",
      "execution_count": null,
      "metadata": {
        "id": "4a9lvN_SUTv9"
      },
      "outputs": [],
      "source": [
        "# See Above"
      ]
    },
    {
      "cell_type": "markdown",
      "metadata": {
        "id": "3nzT91XpUTv9"
      },
      "source": [
        "##### Method Overriding"
      ]
    },
    {
      "cell_type": "code",
      "execution_count": null,
      "metadata": {
        "id": "Qth-6bmPUTv9"
      },
      "outputs": [],
      "source": [
        "# See Above"
      ]
    },
    {
      "cell_type": "markdown",
      "metadata": {
        "id": "aEXJ6W1kUTv9"
      },
      "source": [
        "## Classes as Attributes <br>\n",
        "<p>Classes can also be used as attributes within another class. This is useful in situations where you need to keep variables locally stored, instead of globally stored.</p>"
      ]
    },
    {
      "cell_type": "code",
      "execution_count": null,
      "metadata": {
        "id": "Flh8R9tUUTv9"
      },
      "outputs": [],
      "source": []
    },
    {
      "cell_type": "markdown",
      "metadata": {
        "id": "7jDkRInyUTv-"
      },
      "source": [
        "# Exercises"
      ]
    },
    {
      "cell_type": "markdown",
      "metadata": {
        "id": "stOGJWs8UTv-"
      },
      "source": [
        "### Exercise 1 - Turn the shopping cart program from yesterday into an object-oriented program\n",
        "\n",
        "The comments in the cell below are there as a guide for thinking about the problem. However, if you feel a different way is best for you and your own thought process, please do what feels best for you by all means."
      ]
    },
    {
      "cell_type": "code",
      "execution_count": null,
      "metadata": {
        "id": "PNJ1LkXNUTv-"
      },
      "outputs": [],
      "source": [
        "# Create a class called cart that retains items and has methods to add, remove, and show\n",
        "\n",
        "class Cart():\n",
        "\n",
        "    def __init__(self, items = []):\n",
        "      self.items = items\n",
        "\n",
        "    def showItems(self):\n",
        "      if len(self.items) == 0:\n",
        "        print(\"You have no items in your cart.\\n\")\n",
        "      else:\n",
        "        print(\"You have the following items in your cart:\")\n",
        "        for item in self.items:\n",
        "          print(item.capitalize())\n",
        "\n",
        "    def addItem(self):\n",
        "      item = input(\"What item would you like to add to your cart?\\n\")\n",
        "      self.items.append(item)\n",
        "      clear_output()\n",
        "      print(f'{item.capitalize()} has been added to your cart.\\n')\n",
        "\n",
        "    def removeItem(self):\n",
        "      item = input(\"What item would you like to remove from your cart?\\n\")\n",
        "      if item in self.items:\n",
        "        self.items.remove(item)\n",
        "        clear_output()\n",
        "        print(f'{item.capitalize()} has been removed from your cart.\\n')\n",
        "      else:\n",
        "        print(\"Item was not found in your cart.\\n\")\n",
        "\n",
        "TargetCart = Cart()\n",
        "\n",
        "from IPython.display import clear_output\n",
        "\n",
        "def myCart():\n",
        "  while True:\n",
        "    response = input(\"What would you like to do with your cart:\\n- Add Item\\n- Remove Item\\n- View Items\\n- Quit\\n\")\n",
        "    if response.lower() == 'quit':\n",
        "      clear_output()\n",
        "      TargetCart.showItems()\n",
        "      print(\"Thank You!\")\n",
        "      break\n",
        "    elif response.lower() == 'add item':\n",
        "      clear_output()\n",
        "      TargetCart.addItem()\n",
        "    elif response.lower() == 'remove item':\n",
        "      clear_output()\n",
        "      TargetCart.removeItem()\n",
        "    elif response.lower() == 'view items':\n",
        "      clear_output()\n",
        "      TargetCart.showItems()\n",
        "    else:\n",
        "      clear_output()\n",
        "      print(\"That is not an available option.\")\n",
        "\n",
        "myCart()\n"
      ]
    },
    {
      "cell_type": "markdown",
      "metadata": {
        "id": "7RFuPm9ZUTv-"
      },
      "source": [
        "### Exercise 2 - Write a Python class which has two methods get_String and print_String. get_String accept a string from the user and print_String print the string in upper case"
      ]
    },
    {
      "cell_type": "code",
      "execution_count": null,
      "metadata": {
        "id": "ZEu-6UE9UTv-"
      },
      "outputs": [],
      "source": [
        "class Python():\n",
        "\n",
        "  def __init__(self):\n",
        "    self.user_input = \"\"\n",
        "\n",
        "  def get_String(self):\n",
        "    self.user_input = input(\"What's on your mind?\\n\")\n",
        "\n",
        "  def print_String(self):\n",
        "    print(f'{self.user_input.upper()}')\n",
        "\n",
        "user_input = Python()\n",
        "user_input.get_String()\n",
        "user_input.print_String()\n"
      ]
    }
  ],
  "metadata": {
    "colab": {
      "provenance": []
    },
    "kernelspec": {
      "display_name": "Python 3 (ipykernel)",
      "language": "python",
      "name": "python3"
    },
    "language_info": {
      "codemirror_mode": {
        "name": "ipython",
        "version": 3
      },
      "file_extension": ".py",
      "mimetype": "text/x-python",
      "name": "python",
      "nbconvert_exporter": "python",
      "pygments_lexer": "ipython3",
      "version": "3.11.7"
    }
  },
  "nbformat": 4,
  "nbformat_minor": 0
}
